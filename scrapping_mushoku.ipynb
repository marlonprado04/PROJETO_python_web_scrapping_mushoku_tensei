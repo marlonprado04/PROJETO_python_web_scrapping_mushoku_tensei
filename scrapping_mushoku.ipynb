{
 "cells": [
  {
   "cell_type": "code",
   "execution_count": 1,
   "metadata": {},
   "outputs": [
    {
     "name": "stdout",
     "output_type": "stream",
     "text": [
      "ERRO NO CAPÌTULO 1-5, POIS NÂO EXISTE\n",
      "ERRO NO CAPÌTULO 2-5, POIS NÂO EXISTE\n",
      "ERRO NO CAPÌTULO 3-5, POIS NÂO EXISTE\n",
      "ERRO NO CAPÌTULO 4-5, POIS NÂO EXISTE\n",
      "ERRO NO CAPÌTULO 5-5, POIS NÂO EXISTE\n",
      "ERRO NO CAPÌTULO 6-5, POIS NÂO EXISTE\n",
      "ERRO NO CAPÌTULO 7-5, POIS NÂO EXISTE\n",
      "ERRO NO CAPÌTULO 8-5, POIS NÂO EXISTE\n",
      "ERRO NO CAPÌTULO 9-5, POIS NÂO EXISTE\n"
     ]
    }
   ],
   "source": [
    "# Importando bibliotecas necessárias\n",
    "from bs4 import BeautifulSoup\n",
    "import requests\n",
    "\n",
    "# Criando variáveis com URL do site\n",
    "url_volume = \"https://centralnovel.com/mushoku-tensei-jobless-reincarnation-volume-\"\n",
    "url_capitulo = \"-capitulo-\"\n",
    "\n",
    "# Criando variáveis incrementais de volume e capítulo\n",
    "numero_volume = 1\n",
    "numero_capitulo = 1.0\n",
    "\n",
    "\n",
    "while numero_capitulo <= 10:\n",
    "    \n",
    "    # Iniciando tentativa\n",
    "    try:\n",
    "        # Tratando número do cap por ser FLOAT\n",
    "        if str(numero_capitulo).find(\".0\") >= 0:\n",
    "            # Criando variável para armazenar número do capítulo em STRING\n",
    "            numero_capitulo_modificado = str(numero_capitulo).split(\".\")[0]\n",
    "            \n",
    "            # Criando requisição da URL\n",
    "            requisicao = requests.get(\n",
    "                url_volume\n",
    "                + str(numero_volume)\n",
    "                + url_capitulo\n",
    "                + str(numero_capitulo_modificado)\n",
    "            )\n",
    "        else:\n",
    "            # Criando variável para armazenar número do capítulo em STRING\n",
    "            numero_capitulo_modificado = str(numero_capitulo).split(\".\")[0] + \"-\" + str(numero_capitulo).split(\".\")[1]\n",
    "\n",
    "            # Criando requisição da URL\n",
    "            requisicao = requests.get(\n",
    "                url_volume\n",
    "                + str(numero_volume)\n",
    "                + url_capitulo\n",
    "                + numero_capitulo_modificado\n",
    "            )\n",
    "\n",
    "        # Parseando HTML\n",
    "        soup = BeautifulSoup(requisicao.text, \"html.parser\")\n",
    "\n",
    "        # Acessando título com NÚMERO do capítulo\n",
    "        titulo_capitulo_numero = soup.find(\"h1\", {\"class\": \"entry-title\"}).get_text()\n",
    "\n",
    "        # Acessando título com NOME do capítulo\n",
    "        titulo_capitulo_nome = soup.find(\"div\", {\"class\": \"cat-series\"}).get_text()\n",
    "\n",
    "        # Adicionando paragrafos ao documento\n",
    "        with open(\n",
    "            f\"./capitulos/Capitulo {numero_capitulo_modificado} - {titulo_capitulo_nome}.txt\", \"a\"\n",
    "        ) as documento:\n",
    "            for paragrafo in soup.findAll(\"p\"):\n",
    "                documento.write(paragrafo.get_text())\n",
    "                documento.write(\"\\n\\n\")\n",
    "    except:\n",
    "        print(\"ERRO NO CAPÌTULO \" + str(numero_capitulo_modificado) + \", POIS NÂO EXISTE\")\n",
    "        pass\n",
    "    \n",
    "    # Incrementando \n",
    "    numero_capitulo += 0.5"
   ]
  }
 ],
 "metadata": {
  "kernelspec": {
   "display_name": "Python 3",
   "language": "python",
   "name": "python3"
  },
  "language_info": {
   "codemirror_mode": {
    "name": "ipython",
    "version": 3
   },
   "file_extension": ".py",
   "mimetype": "text/x-python",
   "name": "python",
   "nbconvert_exporter": "python",
   "pygments_lexer": "ipython3",
   "version": "3.10.12"
  },
  "orig_nbformat": 4
 },
 "nbformat": 4,
 "nbformat_minor": 2
}
