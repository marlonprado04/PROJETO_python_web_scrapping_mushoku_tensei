{
  "cells": [
    {
      "cell_type": "markdown",
      "metadata": {
        "colab_type": "text",
        "id": "view-in-github"
      },
      "source": [
        "<a href=\"https://colab.research.google.com/github/marlonprado04/scrapping-tbate/blob/master/Scarpping_TBATE.ipynb\" target=\"_parent\"><img src=\"https://colab.research.google.com/assets/colab-badge.svg\" alt=\"Open In Colab\"/></a>\n"
      ]
    },
    {
      "cell_type": "markdown",
      "metadata": {},
      "source": [
        "### URL para baixar os capítulos traduzidos:\n",
        "\n",
        "Central Novel: https://centralnovel.com/series/mushoku-tensei-jobless-reincarnation/\n",
        "\n",
        "## Sobre o agrupamento dos capítulos (Central Novel)\n",
        "\n",
        "\n"
      ]
    },
    {
      "cell_type": "code",
      "execution_count": 24,
      "metadata": {},
      "outputs": [
        {
          "name": "stdout",
          "output_type": "stream",
          "text": [
            "https://centralnovel.com/the-beginning-after-the-end-capitulo-374\n",
            "https://centralnovel.com/the-beginning-after-the-end-capitulo-374-5\n",
            "https://centralnovel.com/the-beginning-after-the-end-capitulo-375\n"
          ]
        }
      ],
      "source": [
        "# Importando bibliotecas necessárias\n",
        "from bs4 import BeautifulSoup\n",
        "import requests\n",
        "\n",
        "# Criando URL do site\n",
        "url = \"https://centralnovel.com/the-beginning-after-the-end-capitulo-\"\n",
        "\n",
        "# Criando variáveis para receber range de capítulos para download\n",
        "capitulo_inicial = float(input(\"Desde qual capítulo deseja fazer download?\"))\n",
        "capitulo_final = float(input(\"Até qual capítulo deseja fazer download?\"))\n",
        "caminho = input(\n",
        "    \"Digite o caminho onde deseja salvar os arquivos (ex: ./, /, ./capitulos/): \"\n",
        ")\n",
        "\n",
        "# Criando laço de repetiçãoint\n",
        "while capitulo_inicial <= capitulo_final:\n",
        "    if \".5\" in str(capitulo_inicial):\n",
        "        # Substituindo . por - no caso de ser um capítulo intermediário\n",
        "        cap_inicial = str(capitulo_inicial).replace(\".\", \"-\")\n",
        "        # Passando URL completa\n",
        "        url_completa = f\"{url}{cap_inicial}\"\n",
        "        print(url_completa)\n",
        "\n",
        "    else:\n",
        "        # Removendo .0 no caso de não ser um capítulo intermediário\n",
        "        cap_inicial = str(capitulo_inicial).replace(\".0\", \"\")\n",
        "        # Passando URL completa\n",
        "        url_completa = f\"{url}{cap_inicial}\"\n",
        "        print(url_completa)\n",
        "\n",
        "    # Tentando executar a extração com a URL tratada\n",
        "    try:\n",
        "        # Passando a URL para uma requisição do requests\n",
        "        requisicao = requests.get(url_completa)\n",
        "        requisicao.raise_for_status()  # Verifica se ocorreu algum erro na requisição\n",
        "\n",
        "        # Passando o HTML da requisição para uma variável\n",
        "        html = requisicao.text\n",
        "\n",
        "        # Parseando o HTML da requisição\n",
        "        soup = BeautifulSoup(html, \"html.parser\")\n",
        "\n",
        "        # Passando o título com número do capítulo para uma variável\n",
        "        titulo_capitulo_element = soup.find(\"h1\", {\"class\": \"entry-title\"})\n",
        "        if titulo_capitulo_element:\n",
        "            titulo_capitulo = titulo_capitulo_element.get_text()\n",
        "\n",
        "            # Passando o nome do capítulo para uma variável\n",
        "            titulo_nome_element = soup.find(\"div\", {\"class\": \"cat-series\"})\n",
        "            if titulo_nome_element:\n",
        "                titulo_nome = titulo_nome_element.get_text()\n",
        "                # Substituindo / no nome do capítulo para não dar conflito de diretório\n",
        "                titulo_nome = titulo_nome.replace(\"/\", \"_\")\n",
        "\n",
        "                # Criando variável para recortar apenas o capítulo\n",
        "                indice = titulo_capitulo.find(\"Capítulo\")\n",
        "\n",
        "                # Realizando operação para tratar o título \"Capítulo x\"\n",
        "                if indice != -1:\n",
        "                    # Obtendo texto \"Capítulo x\"\n",
        "                    capitulo = titulo_capitulo[indice:]\n",
        "                    capitulo = capitulo.replace(\"/\", \"_\")\n",
        "\n",
        "                    # Obtendo apenas o número do capítulo\n",
        "                    numero_capitulo = capitulo.split(\" \")[1]\n",
        "\n",
        "                    # Formatando o número do capítulo com três dígitos\n",
        "                    capitulo = f\"Capítulo {numero_capitulo.zfill(3)}\"\n",
        "                else:\n",
        "                    ## Armazenando mensagem de erro caso capítulo não tenha sido informado\n",
        "                    capitulo = f\"#####ERRO##### {titulo_capitulo}\"\n",
        "                    capitulo = capitulo.replace(\"/\", \"_\")\n",
        "\n",
        "                # Criando arquivo com número do capítulo e nome\n",
        "                with open(f\"{caminho}{capitulo} - {titulo_nome}.txt\", \"w\") as arquivo:\n",
        "                    arquivo.write(titulo_capitulo)\n",
        "                    arquivo.write(\"\\n\")\n",
        "                    arquivo.write(titulo_nome)\n",
        "                    arquivo.write(\"\\n\\n\")\n",
        "\n",
        "                # Criando loop para armazenar cada parágrafo dentro do arquivo criado\n",
        "                for paragrafo in soup.find_all(\"p\"):\n",
        "                    with open(\n",
        "                        f\"{caminho}{capitulo} - {titulo_nome}.txt\", \"a\"\n",
        "                    ) as arquivo:\n",
        "                        arquivo.write(paragrafo.get_text())\n",
        "                        arquivo.write(\"\\n\\n\")\n",
        "            else:\n",
        "                print(f\"Nome do capítulo não encontrado: {url_completa}\")\n",
        "                # Ou pode apenas passar para o próximo capítulo, sem fazer nada\n",
        "                pass\n",
        "\n",
        "        else:\n",
        "            print(f\"Título do capítulo não encontrado: {url_completa}\")\n",
        "            # Ou pode apenas passar para o próximo capítulo, sem fazer nada\n",
        "            pass\n",
        "\n",
        "    # Tratando exceção no caso da URL não encontrada\n",
        "    except requests.exceptions.HTTPError as err:\n",
        "        # Caso ocorra um erro HTTP (por exemplo, 404), a URL não existe\n",
        "        # Imprimindo mensagem informando que o capítulo não existe\n",
        "        print(f\"Capítulo não encontrado: {url_completa}\")\n",
        "\n",
        "        # Passando para o próximo incremento\n",
        "        pass\n",
        "\n",
        "    # Incrementando capitulo\n",
        "    capitulo_inicial += 0.5\n"
      ]
    }
  ],
  "metadata": {
    "colab": {
      "authorship_tag": "ABX9TyP7ebZYCY1DXRnEsEYk+Cfq",
      "include_colab_link": true,
      "provenance": []
    },
    "kernelspec": {
      "display_name": "Python 3",
      "name": "python3"
    },
    "language_info": {
      "codemirror_mode": {
        "name": "ipython",
        "version": 3
      },
      "file_extension": ".py",
      "mimetype": "text/x-python",
      "name": "python",
      "nbconvert_exporter": "python",
      "pygments_lexer": "ipython3",
      "version": "3.10.12"
    }
  },
  "nbformat": 4,
  "nbformat_minor": 0
}
